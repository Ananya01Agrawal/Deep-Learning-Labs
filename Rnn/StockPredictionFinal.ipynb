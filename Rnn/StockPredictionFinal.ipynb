{
  "cells": [
    {
      "cell_type": "code",
      "execution_count": null,
      "metadata": {
        "id": "hJK2wlLELp8h"
      },
      "outputs": [],
      "source": [
        "import math\n",
        "import pandas as pd\n",
        "import numpy as np\n",
        "import matplotlib.pyplot as plt\n",
        "from keras.models import Sequential\n",
        "from keras.layers import Dense,LSTM,Dropout,SimpleRNN\n",
        "from sklearn.preprocessing import MinMaxScaler\n",
        "import pandas_datareader as web\n",
        "plt.style.use(\"fivethirtyeight\")\n",
        "\n",
        "\n",
        "\n"
      ]
    },
    {
      "cell_type": "code",
      "execution_count": null,
      "metadata": {
        "id": "3a616jB0VKP3"
      },
      "outputs": [],
      "source": [
        "import pandas\n",
        "from pandas_datareader import data as pdr\n",
        "import yfinance as yfin\n",
        "yfin.pdr_override()"
      ]
    },
    {
      "cell_type": "code",
      "execution_count": null,
      "metadata": {
        "colab": {
          "base_uri": "https://localhost:8080/"
        },
        "id": "oh4IQg-FVMrq",
        "outputId": "915c3610-ca75-44b1-a128-664521e4bdea"
      },
      "outputs": [
        {
          "output_type": "stream",
          "name": "stdout",
          "text": [
            "Requirement already satisfied: yfinance in /usr/local/lib/python3.10/dist-packages (0.2.28)\n",
            "Requirement already satisfied: pandas>=1.3.0 in /usr/local/lib/python3.10/dist-packages (from yfinance) (1.5.3)\n",
            "Requirement already satisfied: numpy>=1.16.5 in /usr/local/lib/python3.10/dist-packages (from yfinance) (1.23.5)\n",
            "Requirement already satisfied: requests>=2.31 in /usr/local/lib/python3.10/dist-packages (from yfinance) (2.31.0)\n",
            "Requirement already satisfied: multitasking>=0.0.7 in /usr/local/lib/python3.10/dist-packages (from yfinance) (0.0.11)\n",
            "Requirement already satisfied: lxml>=4.9.1 in /usr/local/lib/python3.10/dist-packages (from yfinance) (4.9.3)\n",
            "Requirement already satisfied: appdirs>=1.4.4 in /usr/local/lib/python3.10/dist-packages (from yfinance) (1.4.4)\n",
            "Requirement already satisfied: pytz>=2022.5 in /usr/local/lib/python3.10/dist-packages (from yfinance) (2023.3.post1)\n",
            "Requirement already satisfied: frozendict>=2.3.4 in /usr/local/lib/python3.10/dist-packages (from yfinance) (2.3.8)\n",
            "Requirement already satisfied: beautifulsoup4>=4.11.1 in /usr/local/lib/python3.10/dist-packages (from yfinance) (4.11.2)\n",
            "Requirement already satisfied: html5lib>=1.1 in /usr/local/lib/python3.10/dist-packages (from yfinance) (1.1)\n",
            "Requirement already satisfied: soupsieve>1.2 in /usr/local/lib/python3.10/dist-packages (from beautifulsoup4>=4.11.1->yfinance) (2.5)\n",
            "Requirement already satisfied: six>=1.9 in /usr/local/lib/python3.10/dist-packages (from html5lib>=1.1->yfinance) (1.16.0)\n",
            "Requirement already satisfied: webencodings in /usr/local/lib/python3.10/dist-packages (from html5lib>=1.1->yfinance) (0.5.1)\n",
            "Requirement already satisfied: python-dateutil>=2.8.1 in /usr/local/lib/python3.10/dist-packages (from pandas>=1.3.0->yfinance) (2.8.2)\n",
            "Requirement already satisfied: charset-normalizer<4,>=2 in /usr/local/lib/python3.10/dist-packages (from requests>=2.31->yfinance) (3.2.0)\n",
            "Requirement already satisfied: idna<4,>=2.5 in /usr/local/lib/python3.10/dist-packages (from requests>=2.31->yfinance) (3.4)\n",
            "Requirement already satisfied: urllib3<3,>=1.21.1 in /usr/local/lib/python3.10/dist-packages (from requests>=2.31->yfinance) (2.0.4)\n",
            "Requirement already satisfied: certifi>=2017.4.17 in /usr/local/lib/python3.10/dist-packages (from requests>=2.31->yfinance) (2023.7.22)\n"
          ]
        }
      ],
      "source": [
        "pip install yfinance"
      ]
    },
    {
      "cell_type": "code",
      "execution_count": null,
      "metadata": {
        "colab": {
          "base_uri": "https://localhost:8080/"
        },
        "id": "0O10NZglM_6Y",
        "outputId": "7ab5f8fb-a1a9-4ee5-ced0-742a39425755"
      },
      "outputs": [
        {
          "output_type": "stream",
          "name": "stdout",
          "text": [
            "\r[*********************100%%**********************]  1 of 1 completed\n"
          ]
        }
      ],
      "source": [
        "df=pdr.get_data_yahoo(\"^n225\",start=\"2010-01-01\", end=\"2020-03-31\")\n"
      ]
    },
    {
      "cell_type": "code",
      "execution_count": null,
      "metadata": {
        "colab": {
          "base_uri": "https://localhost:8080/",
          "height": 455
        },
        "id": "XRVCez4eXGwt",
        "outputId": "94bc500f-0e19-46af-d598-a13eea46778d"
      },
      "outputs": [
        {
          "output_type": "execute_result",
          "data": {
            "text/plain": [
              "                    Open          High           Low         Close  \\\n",
              "Date                                                                 \n",
              "2010-01-04  10609.339844  10694.490234  10608.139648  10654.790039   \n",
              "2010-01-05  10719.440430  10791.040039  10655.570312  10681.830078   \n",
              "2010-01-06  10709.549805  10768.610352  10661.169922  10731.450195   \n",
              "2010-01-07  10742.750000  10774.000000  10636.669922  10681.660156   \n",
              "2010-01-08  10743.299805  10816.450195  10677.559570  10798.320312   \n",
              "...                  ...           ...           ...           ...   \n",
              "2023-03-24  27368.619141  27397.289062  27257.439453  27385.250000   \n",
              "2023-03-27  27482.390625  27543.480469  27359.720703  27476.869141   \n",
              "2023-03-28  27573.820312  27603.449219  27432.759766  27518.250000   \n",
              "2023-03-29  27549.369141  27897.720703  27505.480469  27883.779297   \n",
              "2023-03-30  27827.890625  27876.380859  27630.550781  27782.929688   \n",
              "\n",
              "               Adj Close     Volume  \n",
              "Date                                 \n",
              "2010-01-04  10654.790039  104400000  \n",
              "2010-01-05  10681.830078  166200000  \n",
              "2010-01-06  10731.450195  181800000  \n",
              "2010-01-07  10681.660156  182600000  \n",
              "2010-01-08  10798.320312  211800000  \n",
              "...                  ...        ...  \n",
              "2023-03-24  27385.250000   59500000  \n",
              "2023-03-27  27476.869141   57400000  \n",
              "2023-03-28  27518.250000   66400000  \n",
              "2023-03-29  27883.779297   83800000  \n",
              "2023-03-30  27782.929688   82000000  \n",
              "\n",
              "[3238 rows x 6 columns]"
            ],
            "text/html": [
              "\n",
              "  <div id=\"df-7bad4f51-dbab-4f66-a7d3-616b53286829\" class=\"colab-df-container\">\n",
              "    <div>\n",
              "<style scoped>\n",
              "    .dataframe tbody tr th:only-of-type {\n",
              "        vertical-align: middle;\n",
              "    }\n",
              "\n",
              "    .dataframe tbody tr th {\n",
              "        vertical-align: top;\n",
              "    }\n",
              "\n",
              "    .dataframe thead th {\n",
              "        text-align: right;\n",
              "    }\n",
              "</style>\n",
              "<table border=\"1\" class=\"dataframe\">\n",
              "  <thead>\n",
              "    <tr style=\"text-align: right;\">\n",
              "      <th></th>\n",
              "      <th>Open</th>\n",
              "      <th>High</th>\n",
              "      <th>Low</th>\n",
              "      <th>Close</th>\n",
              "      <th>Adj Close</th>\n",
              "      <th>Volume</th>\n",
              "    </tr>\n",
              "    <tr>\n",
              "      <th>Date</th>\n",
              "      <th></th>\n",
              "      <th></th>\n",
              "      <th></th>\n",
              "      <th></th>\n",
              "      <th></th>\n",
              "      <th></th>\n",
              "    </tr>\n",
              "  </thead>\n",
              "  <tbody>\n",
              "    <tr>\n",
              "      <th>2010-01-04</th>\n",
              "      <td>10609.339844</td>\n",
              "      <td>10694.490234</td>\n",
              "      <td>10608.139648</td>\n",
              "      <td>10654.790039</td>\n",
              "      <td>10654.790039</td>\n",
              "      <td>104400000</td>\n",
              "    </tr>\n",
              "    <tr>\n",
              "      <th>2010-01-05</th>\n",
              "      <td>10719.440430</td>\n",
              "      <td>10791.040039</td>\n",
              "      <td>10655.570312</td>\n",
              "      <td>10681.830078</td>\n",
              "      <td>10681.830078</td>\n",
              "      <td>166200000</td>\n",
              "    </tr>\n",
              "    <tr>\n",
              "      <th>2010-01-06</th>\n",
              "      <td>10709.549805</td>\n",
              "      <td>10768.610352</td>\n",
              "      <td>10661.169922</td>\n",
              "      <td>10731.450195</td>\n",
              "      <td>10731.450195</td>\n",
              "      <td>181800000</td>\n",
              "    </tr>\n",
              "    <tr>\n",
              "      <th>2010-01-07</th>\n",
              "      <td>10742.750000</td>\n",
              "      <td>10774.000000</td>\n",
              "      <td>10636.669922</td>\n",
              "      <td>10681.660156</td>\n",
              "      <td>10681.660156</td>\n",
              "      <td>182600000</td>\n",
              "    </tr>\n",
              "    <tr>\n",
              "      <th>2010-01-08</th>\n",
              "      <td>10743.299805</td>\n",
              "      <td>10816.450195</td>\n",
              "      <td>10677.559570</td>\n",
              "      <td>10798.320312</td>\n",
              "      <td>10798.320312</td>\n",
              "      <td>211800000</td>\n",
              "    </tr>\n",
              "    <tr>\n",
              "      <th>...</th>\n",
              "      <td>...</td>\n",
              "      <td>...</td>\n",
              "      <td>...</td>\n",
              "      <td>...</td>\n",
              "      <td>...</td>\n",
              "      <td>...</td>\n",
              "    </tr>\n",
              "    <tr>\n",
              "      <th>2023-03-24</th>\n",
              "      <td>27368.619141</td>\n",
              "      <td>27397.289062</td>\n",
              "      <td>27257.439453</td>\n",
              "      <td>27385.250000</td>\n",
              "      <td>27385.250000</td>\n",
              "      <td>59500000</td>\n",
              "    </tr>\n",
              "    <tr>\n",
              "      <th>2023-03-27</th>\n",
              "      <td>27482.390625</td>\n",
              "      <td>27543.480469</td>\n",
              "      <td>27359.720703</td>\n",
              "      <td>27476.869141</td>\n",
              "      <td>27476.869141</td>\n",
              "      <td>57400000</td>\n",
              "    </tr>\n",
              "    <tr>\n",
              "      <th>2023-03-28</th>\n",
              "      <td>27573.820312</td>\n",
              "      <td>27603.449219</td>\n",
              "      <td>27432.759766</td>\n",
              "      <td>27518.250000</td>\n",
              "      <td>27518.250000</td>\n",
              "      <td>66400000</td>\n",
              "    </tr>\n",
              "    <tr>\n",
              "      <th>2023-03-29</th>\n",
              "      <td>27549.369141</td>\n",
              "      <td>27897.720703</td>\n",
              "      <td>27505.480469</td>\n",
              "      <td>27883.779297</td>\n",
              "      <td>27883.779297</td>\n",
              "      <td>83800000</td>\n",
              "    </tr>\n",
              "    <tr>\n",
              "      <th>2023-03-30</th>\n",
              "      <td>27827.890625</td>\n",
              "      <td>27876.380859</td>\n",
              "      <td>27630.550781</td>\n",
              "      <td>27782.929688</td>\n",
              "      <td>27782.929688</td>\n",
              "      <td>82000000</td>\n",
              "    </tr>\n",
              "  </tbody>\n",
              "</table>\n",
              "<p>3238 rows × 6 columns</p>\n",
              "</div>\n",
              "    <div class=\"colab-df-buttons\">\n",
              "\n",
              "  <div class=\"colab-df-container\">\n",
              "    <button class=\"colab-df-convert\" onclick=\"convertToInteractive('df-7bad4f51-dbab-4f66-a7d3-616b53286829')\"\n",
              "            title=\"Convert this dataframe to an interactive table.\"\n",
              "            style=\"display:none;\">\n",
              "\n",
              "  <svg xmlns=\"http://www.w3.org/2000/svg\" height=\"24px\" viewBox=\"0 -960 960 960\">\n",
              "    <path d=\"M120-120v-720h720v720H120Zm60-500h600v-160H180v160Zm220 220h160v-160H400v160Zm0 220h160v-160H400v160ZM180-400h160v-160H180v160Zm440 0h160v-160H620v160ZM180-180h160v-160H180v160Zm440 0h160v-160H620v160Z\"/>\n",
              "  </svg>\n",
              "    </button>\n",
              "\n",
              "  <style>\n",
              "    .colab-df-container {\n",
              "      display:flex;\n",
              "      gap: 12px;\n",
              "    }\n",
              "\n",
              "    .colab-df-convert {\n",
              "      background-color: #E8F0FE;\n",
              "      border: none;\n",
              "      border-radius: 50%;\n",
              "      cursor: pointer;\n",
              "      display: none;\n",
              "      fill: #1967D2;\n",
              "      height: 32px;\n",
              "      padding: 0 0 0 0;\n",
              "      width: 32px;\n",
              "    }\n",
              "\n",
              "    .colab-df-convert:hover {\n",
              "      background-color: #E2EBFA;\n",
              "      box-shadow: 0px 1px 2px rgba(60, 64, 67, 0.3), 0px 1px 3px 1px rgba(60, 64, 67, 0.15);\n",
              "      fill: #174EA6;\n",
              "    }\n",
              "\n",
              "    .colab-df-buttons div {\n",
              "      margin-bottom: 4px;\n",
              "    }\n",
              "\n",
              "    [theme=dark] .colab-df-convert {\n",
              "      background-color: #3B4455;\n",
              "      fill: #D2E3FC;\n",
              "    }\n",
              "\n",
              "    [theme=dark] .colab-df-convert:hover {\n",
              "      background-color: #434B5C;\n",
              "      box-shadow: 0px 1px 3px 1px rgba(0, 0, 0, 0.15);\n",
              "      filter: drop-shadow(0px 1px 2px rgba(0, 0, 0, 0.3));\n",
              "      fill: #FFFFFF;\n",
              "    }\n",
              "  </style>\n",
              "\n",
              "    <script>\n",
              "      const buttonEl =\n",
              "        document.querySelector('#df-7bad4f51-dbab-4f66-a7d3-616b53286829 button.colab-df-convert');\n",
              "      buttonEl.style.display =\n",
              "        google.colab.kernel.accessAllowed ? 'block' : 'none';\n",
              "\n",
              "      async function convertToInteractive(key) {\n",
              "        const element = document.querySelector('#df-7bad4f51-dbab-4f66-a7d3-616b53286829');\n",
              "        const dataTable =\n",
              "          await google.colab.kernel.invokeFunction('convertToInteractive',\n",
              "                                                    [key], {});\n",
              "        if (!dataTable) return;\n",
              "\n",
              "        const docLinkHtml = 'Like what you see? Visit the ' +\n",
              "          '<a target=\"_blank\" href=https://colab.research.google.com/notebooks/data_table.ipynb>data table notebook</a>'\n",
              "          + ' to learn more about interactive tables.';\n",
              "        element.innerHTML = '';\n",
              "        dataTable['output_type'] = 'display_data';\n",
              "        await google.colab.output.renderOutput(dataTable, element);\n",
              "        const docLink = document.createElement('div');\n",
              "        docLink.innerHTML = docLinkHtml;\n",
              "        element.appendChild(docLink);\n",
              "      }\n",
              "    </script>\n",
              "  </div>\n",
              "\n",
              "\n",
              "<div id=\"df-932f7dd3-2541-488b-af36-2074a5daee91\">\n",
              "  <button class=\"colab-df-quickchart\" onclick=\"quickchart('df-932f7dd3-2541-488b-af36-2074a5daee91')\"\n",
              "            title=\"Suggest charts.\"\n",
              "            style=\"display:none;\">\n",
              "\n",
              "<svg xmlns=\"http://www.w3.org/2000/svg\" height=\"24px\"viewBox=\"0 0 24 24\"\n",
              "     width=\"24px\">\n",
              "    <g>\n",
              "        <path d=\"M19 3H5c-1.1 0-2 .9-2 2v14c0 1.1.9 2 2 2h14c1.1 0 2-.9 2-2V5c0-1.1-.9-2-2-2zM9 17H7v-7h2v7zm4 0h-2V7h2v10zm4 0h-2v-4h2v4z\"/>\n",
              "    </g>\n",
              "</svg>\n",
              "  </button>\n",
              "\n",
              "<style>\n",
              "  .colab-df-quickchart {\n",
              "      --bg-color: #E8F0FE;\n",
              "      --fill-color: #1967D2;\n",
              "      --hover-bg-color: #E2EBFA;\n",
              "      --hover-fill-color: #174EA6;\n",
              "      --disabled-fill-color: #AAA;\n",
              "      --disabled-bg-color: #DDD;\n",
              "  }\n",
              "\n",
              "  [theme=dark] .colab-df-quickchart {\n",
              "      --bg-color: #3B4455;\n",
              "      --fill-color: #D2E3FC;\n",
              "      --hover-bg-color: #434B5C;\n",
              "      --hover-fill-color: #FFFFFF;\n",
              "      --disabled-bg-color: #3B4455;\n",
              "      --disabled-fill-color: #666;\n",
              "  }\n",
              "\n",
              "  .colab-df-quickchart {\n",
              "    background-color: var(--bg-color);\n",
              "    border: none;\n",
              "    border-radius: 50%;\n",
              "    cursor: pointer;\n",
              "    display: none;\n",
              "    fill: var(--fill-color);\n",
              "    height: 32px;\n",
              "    padding: 0;\n",
              "    width: 32px;\n",
              "  }\n",
              "\n",
              "  .colab-df-quickchart:hover {\n",
              "    background-color: var(--hover-bg-color);\n",
              "    box-shadow: 0 1px 2px rgba(60, 64, 67, 0.3), 0 1px 3px 1px rgba(60, 64, 67, 0.15);\n",
              "    fill: var(--button-hover-fill-color);\n",
              "  }\n",
              "\n",
              "  .colab-df-quickchart-complete:disabled,\n",
              "  .colab-df-quickchart-complete:disabled:hover {\n",
              "    background-color: var(--disabled-bg-color);\n",
              "    fill: var(--disabled-fill-color);\n",
              "    box-shadow: none;\n",
              "  }\n",
              "\n",
              "  .colab-df-spinner {\n",
              "    border: 2px solid var(--fill-color);\n",
              "    border-color: transparent;\n",
              "    border-bottom-color: var(--fill-color);\n",
              "    animation:\n",
              "      spin 1s steps(1) infinite;\n",
              "  }\n",
              "\n",
              "  @keyframes spin {\n",
              "    0% {\n",
              "      border-color: transparent;\n",
              "      border-bottom-color: var(--fill-color);\n",
              "      border-left-color: var(--fill-color);\n",
              "    }\n",
              "    20% {\n",
              "      border-color: transparent;\n",
              "      border-left-color: var(--fill-color);\n",
              "      border-top-color: var(--fill-color);\n",
              "    }\n",
              "    30% {\n",
              "      border-color: transparent;\n",
              "      border-left-color: var(--fill-color);\n",
              "      border-top-color: var(--fill-color);\n",
              "      border-right-color: var(--fill-color);\n",
              "    }\n",
              "    40% {\n",
              "      border-color: transparent;\n",
              "      border-right-color: var(--fill-color);\n",
              "      border-top-color: var(--fill-color);\n",
              "    }\n",
              "    60% {\n",
              "      border-color: transparent;\n",
              "      border-right-color: var(--fill-color);\n",
              "    }\n",
              "    80% {\n",
              "      border-color: transparent;\n",
              "      border-right-color: var(--fill-color);\n",
              "      border-bottom-color: var(--fill-color);\n",
              "    }\n",
              "    90% {\n",
              "      border-color: transparent;\n",
              "      border-bottom-color: var(--fill-color);\n",
              "    }\n",
              "  }\n",
              "</style>\n",
              "\n",
              "  <script>\n",
              "    async function quickchart(key) {\n",
              "      const quickchartButtonEl =\n",
              "        document.querySelector('#' + key + ' button');\n",
              "      quickchartButtonEl.disabled = true;  // To prevent multiple clicks.\n",
              "      quickchartButtonEl.classList.add('colab-df-spinner');\n",
              "      try {\n",
              "        const charts = await google.colab.kernel.invokeFunction(\n",
              "            'suggestCharts', [key], {});\n",
              "      } catch (error) {\n",
              "        console.error('Error during call to suggestCharts:', error);\n",
              "      }\n",
              "      quickchartButtonEl.classList.remove('colab-df-spinner');\n",
              "      quickchartButtonEl.classList.add('colab-df-quickchart-complete');\n",
              "    }\n",
              "    (() => {\n",
              "      let quickchartButtonEl =\n",
              "        document.querySelector('#df-932f7dd3-2541-488b-af36-2074a5daee91 button');\n",
              "      quickchartButtonEl.style.display =\n",
              "        google.colab.kernel.accessAllowed ? 'block' : 'none';\n",
              "    })();\n",
              "  </script>\n",
              "</div>\n",
              "    </div>\n",
              "  </div>\n"
            ]
          },
          "metadata": {},
          "execution_count": 70
        }
      ],
      "source": [
        "df"
      ]
    },
    {
      "cell_type": "code",
      "execution_count": null,
      "metadata": {
        "id": "hxmbxhIrWBX0"
      },
      "outputs": [],
      "source": [
        "df.to_csv('/content/SP500.csv')"
      ]
    },
    {
      "cell_type": "code",
      "execution_count": null,
      "metadata": {
        "id": "VCIAnMiWPyxQ"
      },
      "outputs": [],
      "source": [
        "from sklearn.svm import SVR\n",
        "\n",
        "dates = dates_df['Date'].as_matrix()\n",
        "prices = df['Adj Close'].as_matrix()\n",
        "\n",
        "#Convert to 1d Vector\n",
        "dates = np.reshape(dates, (len(dates), 1))\n",
        "prices = np.reshape(prices, (len(prices), 1))\n",
        "\n",
        "svr_rbf = SVR(kernel= 'rbf', C= 1e3, gamma= 0.1)\n",
        "svr_rbf.fit(dates, prices)\n",
        "\n",
        "plt.figure(figsize = (12,6))\n",
        "plt.plot(dates, prices, color= 'black', label= 'Data')\n",
        "plt.plot(org_dates, svr_rbf.predict(dates), color= 'red', label= 'RBF model')\n",
        "plt.xlabel('Date')\n",
        "plt.ylabel('Price')\n",
        "plt.legend()\n",
        "plt.show()"
      ]
    },
    {
      "cell_type": "code",
      "execution_count": null,
      "metadata": {
        "id": "9063m0nvP1Nc"
      },
      "outputs": [],
      "source": [
        "plt.figure(figsize=[16,8])\n",
        "plt.title('Closing Price')\n",
        "plt.plot(df['Close'])\n",
        "plt.xlabel('Date')\n",
        "plt.ylabel('Stock Price')"
      ]
    },
    {
      "cell_type": "code",
      "execution_count": null,
      "metadata": {
        "colab": {
          "base_uri": "https://localhost:8080/"
        },
        "id": "IJ8Ma2MsMp9_",
        "outputId": "3a8fc0d4-9c2b-4a05-a35c-89297383c129"
      },
      "outputs": [
        {
          "output_type": "stream",
          "name": "stdout",
          "text": [
            "2004 501\n"
          ]
        }
      ],
      "source": [
        "data= df.filter(['Close'])\n",
        "dataset=data.values\n",
        "training_data_len=math.ceil(len(dataset)*0.8)\n",
        "testing_data_len=math.ceil(len(dataset)*0.2)\n",
        "\n",
        "print(training_data_len,testing_data_len)\n",
        "\n",
        "\n",
        "\n"
      ]
    },
    {
      "cell_type": "code",
      "execution_count": null,
      "metadata": {
        "colab": {
          "base_uri": "https://localhost:8080/"
        },
        "id": "qxg2qlZ-MbVG",
        "outputId": "2bf627e7-a582-4721-c52f-d9610b99c70f"
      },
      "outputs": [
        {
          "output_type": "execute_result",
          "data": {
            "text/plain": [
              "array([[0.15485325],\n",
              "       [0.15653165],\n",
              "       [0.15961162],\n",
              "       ...,\n",
              "       [0.65202933],\n",
              "       [0.69702018],\n",
              "       [0.67812214]])"
            ]
          },
          "metadata": {},
          "execution_count": 86
        }
      ],
      "source": [
        "scaler=MinMaxScaler(feature_range=(0,1))\n",
        "scaled_data=scaler.fit_transform(dataset)\n",
        "\n",
        "scaled_data\n"
      ]
    },
    {
      "cell_type": "code",
      "execution_count": null,
      "metadata": {
        "colab": {
          "base_uri": "https://localhost:8080/"
        },
        "id": "KErMax50aFF1",
        "outputId": "c6454f63-77ab-42c0-d287-4011dadf70c6"
      },
      "outputs": [
        {
          "output_type": "stream",
          "name": "stdout",
          "text": [
            "[array([0.15485325, 0.15653165, 0.15961162, 0.15652111, 0.16376231,\n",
            "       0.16877884, 0.15983384, 0.17055034, 0.17516965, 0.16728544,\n",
            "       0.1616879 , 0.15998835, 0.16811285, 0.1508658 , 0.146033  ,\n",
            "       0.13440029, 0.12985668, 0.1399252 , 0.12650237, 0.12693559,\n",
            "       0.13724373, 0.13930698, 0.13630587, 0.11775347, 0.11121929,\n",
            "       0.11004491, 0.11197469, 0.11993219, 0.11503538, 0.11633578,\n",
            "       0.13325507, 0.13504645, 0.12188057, 0.13906736, 0.13606499,\n",
            "       0.12655141, 0.12053859, 0.12203266, 0.12488974, 0.12797965,\n",
            "       0.12992245, 0.1232548 , 0.13711152, 0.15057842, 0.14944442,\n",
            "       0.14921286, 0.1554839 , 0.16084122, 0.16088595, 0.15900703,\n",
            "       0.16678269, 0.16039247, 0.16540094, 0.16226206, 0.16479951,\n",
            "       0.16565729, 0.17605544, 0.17544091, 0.18231029, 0.18186343])]\n",
            "[0.19145089755489153]\n",
            "\n"
          ]
        }
      ],
      "source": [
        "trained_data=scaled_data[0:training_data_len,:]\n",
        "x_train=[]\n",
        "y_train=[]\n",
        "for i in range(60,len(trained_data)):\n",
        "  x_train.append(trained_data[i-60:i,0])\n",
        "  y_train.append(trained_data[i,0])\n",
        "  if(i==60):\n",
        "    print(x_train)\n",
        "    print(y_train)\n",
        "    print()\n"
      ]
    },
    {
      "cell_type": "code",
      "execution_count": null,
      "metadata": {
        "id": "z_C1cFRNbN8b"
      },
      "outputs": [],
      "source": [
        "x_train,y_train=np.array(x_train),np.array(y_train)"
      ]
    },
    {
      "cell_type": "code",
      "execution_count": null,
      "metadata": {
        "colab": {
          "base_uri": "https://localhost:8080/"
        },
        "id": "v1WRg9okdBJt",
        "outputId": "e4e3958c-2c26-43c4-883a-c1d4ec5dec01"
      },
      "outputs": [
        {
          "output_type": "execute_result",
          "data": {
            "text/plain": [
              "(1944, 60, 1)"
            ]
          },
          "metadata": {},
          "execution_count": 89
        }
      ],
      "source": [
        "x_train=np.reshape(x_train,(x_train.shape[0],x_train.shape[1],1))\n",
        "x_train.shape"
      ]
    },
    {
      "cell_type": "code",
      "execution_count": null,
      "metadata": {
        "id": "5ThzrAdjdYhg"
      },
      "outputs": [],
      "source": [
        "model=Sequential()\n",
        "model.add(LSTM(60,return_sequences=True,input_shape=(x_train.shape[1],1)))\n",
        "model.add(Dropout(0.2))\n",
        "model.add(LSTM(80,return_sequences=True))\n",
        "model.add(Dropout(0.2))\n",
        "model.add(LSTM(80,return_sequences=True))\n",
        "model.add(Dropout(0.2))\n",
        "model.add(LSTM(120,return_sequences=False))\n",
        "model.add(Dropout(0.2))\n",
        "model.add(Dense(25))\n",
        "model.add(Dense(1))\n",
        "\n"
      ]
    },
    {
      "cell_type": "code",
      "source": [
        "model=Sequential()\n",
        "model.add(SimpleRNN(60,return_sequences=True,input_shape=(x_train.shape[1],1)))\n",
        "model.add(Dropout(0.2))\n",
        "model.add(SimpleRNN(80,return_sequences=True))\n",
        "model.add(Dropout(0.2))\n",
        "model.add(SimpleRNN(80,return_sequences=True))\n",
        "model.add(Dropout(0.2))\n",
        "model.add(SimpleRNN(120,return_sequences=False))\n",
        "model.add(Dropout(0.2))\n",
        "model.add(Dense(25))\n",
        "model.add(Dense(1))\n"
      ],
      "metadata": {
        "id": "Rbhok1mbeymI"
      },
      "execution_count": null,
      "outputs": []
    },
    {
      "cell_type": "code",
      "execution_count": null,
      "metadata": {
        "id": "_PvipnjqebfK"
      },
      "outputs": [],
      "source": [
        "model.compile(optimizer=\"adam\",loss=\"mean_squared_error\")"
      ]
    },
    {
      "cell_type": "code",
      "execution_count": null,
      "metadata": {
        "colab": {
          "base_uri": "https://localhost:8080/"
        },
        "id": "wNr1wdNje1R9",
        "outputId": "5d09ac8b-6dec-489b-de5c-55889a888db1"
      },
      "outputs": [
        {
          "output_type": "stream",
          "name": "stdout",
          "text": [
            "Epoch 1/100\n",
            "98/98 [==============================] - 8s 85ms/step - loss: 0.0016\n",
            "Epoch 2/100\n",
            "98/98 [==============================] - 8s 80ms/step - loss: 0.0014\n",
            "Epoch 3/100\n",
            "98/98 [==============================] - 8s 86ms/step - loss: 0.0012\n",
            "Epoch 4/100\n",
            "98/98 [==============================] - 8s 84ms/step - loss: 0.0013\n",
            "Epoch 5/100\n",
            "98/98 [==============================] - 8s 84ms/step - loss: 0.0012\n",
            "Epoch 6/100\n",
            "98/98 [==============================] - 8s 81ms/step - loss: 0.0012\n",
            "Epoch 7/100\n",
            "98/98 [==============================] - 8s 85ms/step - loss: 0.0012\n",
            "Epoch 8/100\n",
            "98/98 [==============================] - 8s 85ms/step - loss: 0.0012\n",
            "Epoch 9/100\n",
            "98/98 [==============================] - 8s 85ms/step - loss: 0.0011\n",
            "Epoch 10/100\n",
            "98/98 [==============================] - 8s 80ms/step - loss: 0.0014\n",
            "Epoch 11/100\n",
            "98/98 [==============================] - 8s 85ms/step - loss: 0.0011\n",
            "Epoch 12/100\n",
            "98/98 [==============================] - 8s 86ms/step - loss: 9.9501e-04\n",
            "Epoch 13/100\n",
            "98/98 [==============================] - 8s 83ms/step - loss: 0.0012\n",
            "Epoch 14/100\n",
            "98/98 [==============================] - 8s 81ms/step - loss: 0.0011\n",
            "Epoch 15/100\n",
            "98/98 [==============================] - 8s 84ms/step - loss: 0.0011\n",
            "Epoch 16/100\n",
            "98/98 [==============================] - 8s 84ms/step - loss: 0.0011\n",
            "Epoch 17/100\n",
            "98/98 [==============================] - 8s 81ms/step - loss: 0.0010\n",
            "Epoch 18/100\n",
            "98/98 [==============================] - 8s 84ms/step - loss: 0.0010\n",
            "Epoch 19/100\n",
            "98/98 [==============================] - 8s 84ms/step - loss: 0.0011\n",
            "Epoch 20/100\n",
            "98/98 [==============================] - 8s 85ms/step - loss: 0.0010\n",
            "Epoch 21/100\n",
            "98/98 [==============================] - 8s 81ms/step - loss: 0.0010\n",
            "Epoch 22/100\n",
            "98/98 [==============================] - 8s 85ms/step - loss: 9.5568e-04\n",
            "Epoch 23/100\n",
            "98/98 [==============================] - 9s 89ms/step - loss: 9.2650e-04\n",
            "Epoch 24/100\n",
            "98/98 [==============================] - 8s 84ms/step - loss: 9.7014e-04\n",
            "Epoch 25/100\n",
            "98/98 [==============================] - 8s 81ms/step - loss: 0.0012\n",
            "Epoch 26/100\n",
            "98/98 [==============================] - 8s 85ms/step - loss: 0.0010\n",
            "Epoch 27/100\n",
            "98/98 [==============================] - 8s 86ms/step - loss: 9.6091e-04\n",
            "Epoch 28/100\n",
            "98/98 [==============================] - 8s 85ms/step - loss: 0.0011\n",
            "Epoch 29/100\n",
            "98/98 [==============================] - 8s 82ms/step - loss: 8.9162e-04\n",
            "Epoch 30/100\n",
            "98/98 [==============================] - 8s 86ms/step - loss: 8.6550e-04\n",
            "Epoch 31/100\n",
            "98/98 [==============================] - 8s 85ms/step - loss: 9.3855e-04\n",
            "Epoch 32/100\n",
            "98/98 [==============================] - 8s 82ms/step - loss: 9.1720e-04\n",
            "Epoch 33/100\n",
            "98/98 [==============================] - 8s 84ms/step - loss: 9.3999e-04\n",
            "Epoch 34/100\n",
            "98/98 [==============================] - 8s 85ms/step - loss: 8.8915e-04\n",
            "Epoch 35/100\n",
            "98/98 [==============================] - 8s 85ms/step - loss: 8.9055e-04\n",
            "Epoch 36/100\n",
            "98/98 [==============================] - 8s 81ms/step - loss: 0.0011\n",
            "Epoch 37/100\n",
            "98/98 [==============================] - 8s 85ms/step - loss: 8.0809e-04\n",
            "Epoch 38/100\n",
            "98/98 [==============================] - 8s 86ms/step - loss: 0.0011\n",
            "Epoch 39/100\n",
            "98/98 [==============================] - 8s 87ms/step - loss: 9.2094e-04\n",
            "Epoch 40/100\n",
            "98/98 [==============================] - 8s 81ms/step - loss: 9.0864e-04\n",
            "Epoch 41/100\n",
            "98/98 [==============================] - 8s 86ms/step - loss: 7.3583e-04\n",
            "Epoch 42/100\n",
            "98/98 [==============================] - 8s 86ms/step - loss: 8.6121e-04\n",
            "Epoch 43/100\n",
            "98/98 [==============================] - 8s 86ms/step - loss: 0.0011\n",
            "Epoch 44/100\n",
            "98/98 [==============================] - 8s 82ms/step - loss: 8.6512e-04\n",
            "Epoch 45/100\n",
            "98/98 [==============================] - 8s 85ms/step - loss: 7.5186e-04\n",
            "Epoch 46/100\n",
            "98/98 [==============================] - 8s 87ms/step - loss: 8.2370e-04\n",
            "Epoch 47/100\n",
            "98/98 [==============================] - 8s 87ms/step - loss: 7.4790e-04\n",
            "Epoch 48/100\n",
            "98/98 [==============================] - 8s 83ms/step - loss: 7.0962e-04\n",
            "Epoch 49/100\n",
            "98/98 [==============================] - 9s 88ms/step - loss: 8.5758e-04\n",
            "Epoch 50/100\n",
            "98/98 [==============================] - 8s 85ms/step - loss: 7.9983e-04\n",
            "Epoch 51/100\n",
            "98/98 [==============================] - 8s 85ms/step - loss: 7.3504e-04\n",
            "Epoch 52/100\n",
            "98/98 [==============================] - 8s 81ms/step - loss: 7.3124e-04\n",
            "Epoch 53/100\n",
            "98/98 [==============================] - 8s 85ms/step - loss: 7.5857e-04\n",
            "Epoch 54/100\n",
            "98/98 [==============================] - 8s 85ms/step - loss: 7.7718e-04\n",
            "Epoch 55/100\n",
            "98/98 [==============================] - 8s 84ms/step - loss: 7.7115e-04\n",
            "Epoch 56/100\n",
            "98/98 [==============================] - 8s 81ms/step - loss: 9.4194e-04\n",
            "Epoch 57/100\n",
            "98/98 [==============================] - 8s 85ms/step - loss: 7.5680e-04\n",
            "Epoch 58/100\n",
            "98/98 [==============================] - 8s 85ms/step - loss: 8.8695e-04\n",
            "Epoch 59/100\n",
            "98/98 [==============================] - 8s 82ms/step - loss: 0.0012\n",
            "Epoch 60/100\n",
            "98/98 [==============================] - 8s 83ms/step - loss: 8.4928e-04\n",
            "Epoch 61/100\n",
            "98/98 [==============================] - 8s 84ms/step - loss: 8.4707e-04\n",
            "Epoch 62/100\n",
            "98/98 [==============================] - 8s 85ms/step - loss: 9.9154e-04\n",
            "Epoch 63/100\n",
            "98/98 [==============================] - 8s 81ms/step - loss: 8.4701e-04\n",
            "Epoch 64/100\n",
            "98/98 [==============================] - 8s 85ms/step - loss: 7.7702e-04\n",
            "Epoch 65/100\n",
            "98/98 [==============================] - 8s 85ms/step - loss: 7.7992e-04\n",
            "Epoch 66/100\n",
            "98/98 [==============================] - 8s 85ms/step - loss: 9.4708e-04\n",
            "Epoch 67/100\n",
            "98/98 [==============================] - 8s 81ms/step - loss: 6.8066e-04\n",
            "Epoch 68/100\n",
            "98/98 [==============================] - 8s 85ms/step - loss: 7.1320e-04\n",
            "Epoch 69/100\n",
            "98/98 [==============================] - 8s 85ms/step - loss: 7.6964e-04\n",
            "Epoch 70/100\n",
            "98/98 [==============================] - 8s 85ms/step - loss: 6.5989e-04\n",
            "Epoch 71/100\n",
            "98/98 [==============================] - 8s 81ms/step - loss: 8.2991e-04\n",
            "Epoch 72/100\n",
            "98/98 [==============================] - 8s 85ms/step - loss: 6.8453e-04\n",
            "Epoch 73/100\n",
            "98/98 [==============================] - 8s 85ms/step - loss: 8.6522e-04\n",
            "Epoch 74/100\n",
            "98/98 [==============================] - 9s 88ms/step - loss: 7.4209e-04\n",
            "Epoch 75/100\n",
            "98/98 [==============================] - 8s 81ms/step - loss: 6.3707e-04\n",
            "Epoch 76/100\n",
            "98/98 [==============================] - 8s 85ms/step - loss: 7.3732e-04\n",
            "Epoch 77/100\n",
            "98/98 [==============================] - 8s 84ms/step - loss: 6.7759e-04\n",
            "Epoch 78/100\n",
            "98/98 [==============================] - 8s 83ms/step - loss: 7.2592e-04\n",
            "Epoch 79/100\n",
            "98/98 [==============================] - 8s 82ms/step - loss: 7.2370e-04\n",
            "Epoch 80/100\n",
            "98/98 [==============================] - 8s 85ms/step - loss: 6.2356e-04\n",
            "Epoch 81/100\n",
            "98/98 [==============================] - 8s 85ms/step - loss: 6.6697e-04\n",
            "Epoch 82/100\n",
            "98/98 [==============================] - 8s 81ms/step - loss: 7.5704e-04\n",
            "Epoch 83/100\n",
            "98/98 [==============================] - 8s 85ms/step - loss: 7.9843e-04\n",
            "Epoch 84/100\n",
            "98/98 [==============================] - 8s 85ms/step - loss: 6.3351e-04\n",
            "Epoch 85/100\n",
            "98/98 [==============================] - 8s 85ms/step - loss: 7.1175e-04\n",
            "Epoch 86/100\n",
            "98/98 [==============================] - 8s 81ms/step - loss: 6.2224e-04\n",
            "Epoch 87/100\n",
            "98/98 [==============================] - 8s 85ms/step - loss: 6.9872e-04\n",
            "Epoch 88/100\n",
            "98/98 [==============================] - 8s 84ms/step - loss: 7.6282e-04\n",
            "Epoch 89/100\n",
            "98/98 [==============================] - 8s 83ms/step - loss: 7.1728e-04\n",
            "Epoch 90/100\n",
            "98/98 [==============================] - 8s 80ms/step - loss: 8.0869e-04\n",
            "Epoch 91/100\n",
            "98/98 [==============================] - 8s 85ms/step - loss: 6.9432e-04\n",
            "Epoch 92/100\n",
            "98/98 [==============================] - 8s 84ms/step - loss: 7.4860e-04\n",
            "Epoch 93/100\n",
            "98/98 [==============================] - 8s 81ms/step - loss: 7.2194e-04\n",
            "Epoch 94/100\n",
            "98/98 [==============================] - 8s 83ms/step - loss: 6.1653e-04\n",
            "Epoch 95/100\n",
            "98/98 [==============================] - 8s 85ms/step - loss: 6.6217e-04\n",
            "Epoch 96/100\n",
            "98/98 [==============================] - 8s 84ms/step - loss: 7.1107e-04\n",
            "Epoch 97/100\n",
            "98/98 [==============================] - 8s 81ms/step - loss: 7.5383e-04\n",
            "Epoch 98/100\n",
            "98/98 [==============================] - 8s 84ms/step - loss: 7.1905e-04\n",
            "Epoch 99/100\n",
            "98/98 [==============================] - 8s 84ms/step - loss: 7.3349e-04\n",
            "Epoch 100/100\n",
            "98/98 [==============================] - 9s 90ms/step - loss: 6.5387e-04\n"
          ]
        },
        {
          "output_type": "execute_result",
          "data": {
            "text/plain": [
              "<keras.src.callbacks.History at 0x7997e86617e0>"
            ]
          },
          "metadata": {},
          "execution_count": 101
        }
      ],
      "source": [
        "model.fit(x_train,y_train,batch_size=20,epochs=100)"
      ]
    },
    {
      "cell_type": "code",
      "execution_count": null,
      "metadata": {
        "id": "wFzglLPHfRvt"
      },
      "outputs": [],
      "source": [
        "test_data=scaled_data[training_data_len-60:,:]\n",
        "x_test=[]\n",
        "y_test=dataset[training_data_len:,:]\n",
        "#y_test=[]\n",
        "for i in range(60,len(test_data)):\n",
        "  x_test.append(test_data[i-60:i,0])\n",
        "  #y_test.append(test_data[i,0])\n",
        "\n",
        "\n",
        "\n"
      ]
    },
    {
      "cell_type": "code",
      "execution_count": null,
      "metadata": {
        "colab": {
          "base_uri": "https://localhost:8080/"
        },
        "id": "_WoHJlM2gNxQ",
        "outputId": "6f6fe968-e18c-4077-973d-93bd5f4960d6"
      },
      "outputs": [
        {
          "output_type": "execute_result",
          "data": {
            "text/plain": [
              "(501, 60, 1)"
            ]
          },
          "metadata": {},
          "execution_count": 103
        }
      ],
      "source": [
        "x_test=np.array(x_test)\n",
        "#x_test,y_test=np.array(x_test),np.array(y_test)\n",
        "x_test=np.reshape(x_test,(x_test.shape[0],x_test.shape[1],1))\n",
        "x_test.shape\n"
      ]
    },
    {
      "cell_type": "code",
      "execution_count": null,
      "metadata": {
        "id": "Jrs_0tIZgoxl",
        "colab": {
          "base_uri": "https://localhost:8080/"
        },
        "outputId": "629800c7-3aa1-4c6e-d3e2-6e033eef5207"
      },
      "outputs": [
        {
          "output_type": "stream",
          "name": "stdout",
          "text": [
            "16/16 [==============================] - 1s 33ms/step\n"
          ]
        }
      ],
      "source": [
        "predictions=model.predict(x_test)\n",
        "predictions=scaler.inverse_transform(predictions)"
      ]
    },
    {
      "cell_type": "code",
      "execution_count": null,
      "metadata": {
        "id": "kLa-SuNahFjW"
      },
      "outputs": [],
      "source": [
        "rmse=np.sqrt(np.mean(predictions-y_test)**2)\n",
        "rmse"
      ]
    },
    {
      "cell_type": "code",
      "execution_count": null,
      "metadata": {
        "colab": {
          "base_uri": "https://localhost:8080/"
        },
        "id": "BGk8FgtBGOLT",
        "outputId": "3f63123c-9b20-4dda-c9c1-21e39e5649fe"
      },
      "outputs": [
        {
          "output_type": "execute_result",
          "data": {
            "text/plain": [
              "1.8522475143552528"
            ]
          },
          "metadata": {},
          "execution_count": 105
        }
      ],
      "source": [
        "map=np.mean(np.abs((y_test - predictions) / y_test)) *100\n",
        "map"
      ]
    },
    {
      "cell_type": "code",
      "source": [
        "predictions=scaler.inverse_transform(predictions)"
      ],
      "metadata": {
        "id": "R9bRr1EQe2K_"
      },
      "execution_count": null,
      "outputs": []
    },
    {
      "cell_type": "code",
      "source": [
        "train=data[:training_data_len]\n",
        "valid=data[training_data_len:]\n",
        "valid['Predictions']=predictions\n",
        "plt.figure(figsize=[16,8])\n",
        "plt.title('Nikkei 225')\n",
        "plt.xlabel('Year')\n",
        "plt.ylabel('Closing Price')\n",
        "plt.legend(loc='upper left', frameon=False)\n",
        "plt.plot(train['Close'])\n",
        "\n",
        "plt.plot(valid['Close'],label='Close Price')\n",
        "plt.plot(valid['Predictions'],label='Predicted Price')\n",
        "\n",
        "\n",
        "plt.legend()\n",
        "plt.show()\n"
      ],
      "metadata": {
        "colab": {
          "base_uri": "https://localhost:8080/",
          "height": 612
        },
        "id": "tjyLofOpe9sg",
        "outputId": "55b79a62-531e-4b2e-fce7-b71e1b527510"
      },
      "execution_count": null,
      "outputs": [
        {
          "output_type": "stream",
          "name": "stderr",
          "text": [
            "<ipython-input-106-9323b3f4b8f9>:3: SettingWithCopyWarning: \n",
            "A value is trying to be set on a copy of a slice from a DataFrame.\n",
            "Try using .loc[row_indexer,col_indexer] = value instead\n",
            "\n",
            "See the caveats in the documentation: https://pandas.pydata.org/pandas-docs/stable/user_guide/indexing.html#returning-a-view-versus-a-copy\n",
            "  valid['Predictions']=predictions\n",
            "WARNING:matplotlib.legend:No artists with labels found to put in legend.  Note that artists whose label start with an underscore are ignored when legend() is called with no argument.\n"
          ]
        },
        {
          "output_type": "display_data",
          "data": {
            "text/plain": [
              "<Figure size 1600x800 with 1 Axes>"
            ],
            "image/png": "[encoded data removed]"
          },
          "metadata": {}
        }
      ]
    },
    {
      "cell_type": "code",
      "execution_count": null,
      "metadata": {
        "id": "CrWFBcx1zYU4"
      },
      "outputs": [],
      "source": [
        "print(type(y_test))"
      ]
    },
    {
      "cell_type": "code",
      "execution_count": null,
      "metadata": {
        "id": "7OPgRY_6znde"
      },
      "outputs": [],
      "source": [
        "y_test1[-21:]"
      ]
    },
    {
      "cell_type": "code",
      "execution_count": null,
      "metadata": {
        "id": "cJodmYg0bMiB"
      },
      "outputs": [],
      "source": [
        "y_test2=y_test1[-21:]"
      ]
    },
    {
      "cell_type": "code",
      "execution_count": null,
      "metadata": {
        "id": "XC6GvWnhbPOZ"
      },
      "outputs": [],
      "source": [
        "predictions2=predictions1[-21:]"
      ]
    },
    {
      "cell_type": "code",
      "execution_count": null,
      "metadata": {
        "id": "5Jb7twNT1b25"
      },
      "outputs": [],
      "source": [
        "y_test1=y_test.flatten()\n",
        "predictions1=predictions.flatten()"
      ]
    },
    {
      "cell_type": "code",
      "execution_count": null,
      "metadata": {
        "id": "uQSENEAK3S26"
      },
      "outputs": [],
      "source": [
        "print(y_test1[0])"
      ]
    },
    {
      "cell_type": "code",
      "execution_count": null,
      "metadata": {
        "id": "okDmo26S39yT"
      },
      "outputs": [],
      "source": [
        "y_test2=[]\n",
        "predictions2=[]\n",
        "for i in range(0,10):\n",
        "  y_test2.append(y_test1[i])\n",
        "\n",
        "for i in range(0,10):\n",
        "  predictions2.append(predictions1[i])\n",
        "\n",
        "\n"
      ]
    },
    {
      "cell_type": "code",
      "execution_count": null,
      "metadata": {
        "id": "AOQItJEe6lTL"
      },
      "outputs": [],
      "source": [
        "y_test2=list(y_test2)\n",
        "predictions2=list(predictions2)"
      ]
    },
    {
      "cell_type": "code",
      "execution_count": null,
      "metadata": {
        "id": "Ne5h-TS_6tkn"
      },
      "outputs": [],
      "source": [
        "y_test2"
      ]
    },
    {
      "cell_type": "code",
      "execution_count": null,
      "metadata": {
        "id": "3dVEEIWV0bZA"
      },
      "outputs": [],
      "source": [
        "import numpy as np\n",
        "import matplotlib.pyplot as plt\n",
        "\n",
        "# set width of bar\n",
        "barWidth = 0.25\n",
        "fig = plt.subplots(figsize =(12, 8))\n",
        "\n",
        "# set height of bar\n",
        "#IT = [12, 30, 1, 8, 22]\n",
        "#ECE = [28, 6, 16, 5, 10]\n",
        "#CSE = [29, 3, 24, 25, 17]\n",
        "\n",
        "# Set position of bar on X axis\n",
        "br1 = np.arange(len(y_test2))\n",
        "br2 = [x + barWidth for x in br1]\n",
        "\n",
        "\n",
        "# Make the plot\n",
        "plt.bar(br1, y_test2, color ='r', width = barWidth,\n",
        "        edgecolor ='grey', label ='actual')\n",
        "plt.bar(br2, predictions2, color ='g', width = barWidth,\n",
        "        edgecolor ='grey', label ='predictions')\n",
        "\n",
        "\n",
        "# Adding Xticks\n",
        "plt.xlabel('Days in March 2020', fontweight ='bold', fontsize = 15)\n",
        "plt.ylabel('Close', fontweight ='bold', fontsize = 15)\n",
        "plt.xticks([r + barWidth for r in range(len(y_test2))],\n",
        "        ['02', '03', '04', '05', '06','09','10','11','12','13','16', '17', '18', '19', '20','23','24','25','26','27','30'])\n",
        "plt.title(\"Dow Jones Industrial Average\")\n",
        "plt.legend()\n",
        "plt.show()"
      ]
    },
    {
      "cell_type": "code",
      "execution_count": null,
      "metadata": {
        "id": "prgUV5RQ57S6"
      },
      "outputs": [],
      "source": [
        "import numpy as np\n",
        "import matplotlib.pyplot as plt\n",
        "\n",
        "# set width of bar\n",
        "barWidth = 0.25\n",
        "fig = plt.subplots(figsize =(12, 8))\n",
        "\n",
        "# set height of bar\n",
        "IT = [12, 30, 1, 8, 22]\n",
        "ECE = [28, 6, 16, 5, 10]\n",
        "CSE = [29, 3, 24, 25, 17]\n",
        "\n",
        "# Set position of bar on X axis\n",
        "br1 = np.arange(len(IT))\n",
        "br2 = [x + barWidth for x in br1]\n",
        "br3 = [x + barWidth for x in br2]\n",
        "\n",
        "# Make the plot\n",
        "plt.bar(br1, IT, color ='r', width = barWidth,\n",
        "        edgecolor ='grey', label ='IT')\n",
        "plt.bar(br2, ECE, color ='g', width = barWidth,\n",
        "        edgecolor ='grey', label ='ECE')\n",
        "plt.bar(br3, CSE, color ='b', width = barWidth,\n",
        "        edgecolor ='grey', label ='CSE')\n",
        "\n",
        "# Adding Xticks\n",
        "plt.xlabel('Branch', fontweight ='bold', fontsize = 15)\n",
        "plt.ylabel('Students passed', fontweight ='bold', fontsize = 15)\n",
        "plt.xticks([r + barWidth for r in range(len(IT))],\n",
        "        ['2015', '2016', '2017', '2018', '2019'])\n",
        "\n",
        "plt.legend()\n",
        "plt.show()"
      ]
    },
    {
      "cell_type": "code",
      "execution_count": null,
      "metadata": {
        "id": "VE1pzeX_6eOn"
      },
      "outputs": [],
      "source": [
        "print(type(IT))"
      ]
    },
    {
      "cell_type": "code",
      "execution_count": null,
      "metadata": {
        "id": "2YsisceO1asm"
      },
      "outputs": [],
      "source": []
    },
    {
      "cell_type": "code",
      "execution_count": null,
      "metadata": {
        "id": "j1PmpKND7rZe"
      },
      "outputs": [],
      "source": [
        "sum=0\n",
        "for i in range(len(y_test)):\n",
        "  sum+=((predictions[i]-y_test[i])**2)\n",
        "sum=sum//(len(y_test))\n",
        "print(np.sqrt(sum))"
      ]
    },
    {
      "cell_type": "code",
      "execution_count": null,
      "metadata": {
        "id": "qjZ8j679nvja"
      },
      "outputs": [],
      "source": [
        "print(len(y_test))\n",
        "print(len(predictions))"
      ]
    },
    {
      "cell_type": "code",
      "execution_count": null,
      "metadata": {
        "id": "OVlo2J0FhuJB"
      },
      "outputs": [],
      "source": [
        "train=data[:training_data_len]\n",
        "valid=data[training_data_len:]\n",
        "valid['Predictions']=predictions\n",
        "plt.figure(figsize=[16,8])\n",
        "plt.title('Nikkei 225')\n",
        "plt.xlabel('Year')\n",
        "plt.ylabel('Closing Price')\n",
        "plt.legend(loc='upper left', frameon=False)\n",
        "plt.plot(train['Close'])\n",
        "\n",
        "plt.plot(valid['Close'],label='Close Price')\n",
        "plt.plot(valid['Predictions'],label='Predicted Price')\n",
        "\n",
        "\n",
        "plt.legend()\n",
        "plt.show()\n",
        "\n"
      ]
    },
    {
      "cell_type": "code",
      "execution_count": null,
      "metadata": {
        "id": "g8DqF-bKwHza"
      },
      "outputs": [],
      "source": [
        "plt.title('model')\n",
        "plt.xlabel('Date')\n",
        "plt.ylabel('Closing Price')\n",
        "plt.plot(predictions)\n",
        "plt.plot(y_test)\n",
        "plt.show()"
      ]
    },
    {
      "cell_type": "code",
      "execution_count": null,
      "metadata": {
        "id": "TusyM5DFlrCS"
      },
      "outputs": [],
      "source": [
        "import numpy as np\n",
        "import matplotlib as plt\n"
      ]
    }
  ],
  "metadata": {
    "colab": {
      "provenance": []
    },
    "kernelspec": {
      "display_name": "Python 3",
      "name": "python3"
    }
  },
  "nbformat": 4,
  "nbformat_minor": 0
}