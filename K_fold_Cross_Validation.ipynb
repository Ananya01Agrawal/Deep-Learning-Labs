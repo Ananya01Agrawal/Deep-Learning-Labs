{
  "nbformat": 4,
  "nbformat_minor": 0,
  "metadata": {
    "colab": {
      "provenance": []
    },
    "kernelspec": {
      "name": "python3",
      "display_name": "Python 3"
    },
    "language_info": {
      "name": "python"
    }
  },
  "cells": [
    {
      "cell_type": "code",
      "execution_count": 1,
      "metadata": {
        "id": "JGXTWSxCQXze"
      },
      "outputs": [],
      "source": [
        "import numpy as np\n",
        "import pandas as pd\n",
        "from sklearn.model_selection import KFold\n",
        "from sklearn.linear_model import LinearRegression\n",
        "from sklearn.metrics import mean_squared_error"
      ]
    },
    {
      "cell_type": "code",
      "source": [
        "# Sample data containing input and target values\n",
        "data = {10: 20, 11: 23, 12: 24, 13: 26, 14: 28, 15: 30, 16: 32, 17: 34, 18: 39, 19: 38}\n",
        "df = pd.DataFrame(list(data.items()), columns=['Input', 'Target'])\n"
      ],
      "metadata": {
        "id": "t1hFiLs1QovH"
      },
      "execution_count": 2,
      "outputs": []
    },
    {
      "cell_type": "code",
      "source": [
        "# Number of folds and test set size\n",
        "k = 10\n",
        "test_size = 0.1"
      ],
      "metadata": {
        "id": "1Ed7owR3Qw3m"
      },
      "execution_count": 3,
      "outputs": []
    },
    {
      "cell_type": "code",
      "source": [
        "# Initialize KFold cross-validation with shuffling and random state\n",
        "kf = KFold(n_splits=k, shuffle=True, random_state=42)\n",
        "\n",
        "# List to store MSE scores for each fold\n",
        "mse_scores = []\n",
        "total_mse=0"
      ],
      "metadata": {
        "id": "nfiWewLGQ0vt"
      },
      "execution_count": 17,
      "outputs": []
    },
    {
      "cell_type": "code",
      "source": [
        "# Iterate through each fold and perform cross-validation\n",
        "for fold, (train_indices, test_indices) in enumerate(kf.split(df)):\n",
        "    # Split data into train and test sets based on fold indices\n",
        "    train_data = df.iloc[train_indices]\n",
        "    test_data = df.iloc[test_indices]\n",
        "    print(f\"Fold {fold + 1}: MSE = {mse:.2f}\")\n",
        "    print(\"Train indices:\", train_indices)\n",
        "    print(\"Test indices:\", test_indices)\n",
        "    print()"
      ],
      "metadata": {
        "colab": {
          "base_uri": "https://localhost:8080/"
        },
        "id": "w3_zhJOZQ58h",
        "outputId": "ef776a31-de20-4943-b583-4423af414e1d"
      },
      "execution_count": 18,
      "outputs": [
        {
          "output_type": "stream",
          "name": "stdout",
          "text": [
            "Fold 1: MSE = 0.37\n",
            "Train indices: [0 1 2 3 4 5 6 7 9]\n",
            "Test indices: [8]\n",
            "\n",
            "Fold 2: MSE = 0.37\n",
            "Train indices: [0 2 3 4 5 6 7 8 9]\n",
            "Test indices: [1]\n",
            "\n",
            "Fold 3: MSE = 0.37\n",
            "Train indices: [0 1 2 3 4 6 7 8 9]\n",
            "Test indices: [5]\n",
            "\n",
            "Fold 4: MSE = 0.37\n",
            "Train indices: [1 2 3 4 5 6 7 8 9]\n",
            "Test indices: [0]\n",
            "\n",
            "Fold 5: MSE = 0.37\n",
            "Train indices: [0 1 2 3 4 5 6 8 9]\n",
            "Test indices: [7]\n",
            "\n",
            "Fold 6: MSE = 0.37\n",
            "Train indices: [0 1 3 4 5 6 7 8 9]\n",
            "Test indices: [2]\n",
            "\n",
            "Fold 7: MSE = 0.37\n",
            "Train indices: [0 1 2 3 4 5 6 7 8]\n",
            "Test indices: [9]\n",
            "\n",
            "Fold 8: MSE = 0.37\n",
            "Train indices: [0 1 2 3 5 6 7 8 9]\n",
            "Test indices: [4]\n",
            "\n",
            "Fold 9: MSE = 0.37\n",
            "Train indices: [0 1 2 4 5 6 7 8 9]\n",
            "Test indices: [3]\n",
            "\n",
            "Fold 10: MSE = 0.37\n",
            "Train indices: [0 1 2 3 4 5 7 8 9]\n",
            "Test indices: [6]\n",
            "\n"
          ]
        }
      ]
    },
    {
      "cell_type": "code",
      "source": [
        "# Extract input (X) and target (y) values for training and testing\n",
        "X_train = train_data[['Input']]\n",
        "y_train = train_data['Target']\n",
        "X_test = test_data[['Input']]\n",
        "y_test = test_data['Target']"
      ],
      "metadata": {
        "id": "woHOsfiYQ-ni"
      },
      "execution_count": 19,
      "outputs": []
    },
    {
      "cell_type": "code",
      "source": [
        "# Create a Linear Regression model and fit it on the training data\n",
        "model = LinearRegression()\n",
        "model.fit(X_train, y_train)\n",
        "# Predict target values using the model\n",
        "y_pred = model.predict(X_test)"
      ],
      "metadata": {
        "id": "0jajkSLXRVDs"
      },
      "execution_count": 20,
      "outputs": []
    },
    {
      "cell_type": "code",
      "source": [
        "# Calculate the Mean Squared Error (MSE) for this fold\n",
        "mse = mean_squared_error(y_test, y_pred)\n",
        "mse_scores.append(mse)\n",
        "total_mse+=mse"
      ],
      "metadata": {
        "id": "opnorldXRfho"
      },
      "execution_count": 21,
      "outputs": []
    },
    {
      "cell_type": "code",
      "source": [
        "# Print fold-specific results and indices\n",
        "print(f\"Fold {fold + 1}: MSE = {mse:.2f}\")\n",
        "print(\"Train indices:\", train_indices)\n",
        "print(\"Test indices:\", test_indices)\n",
        "print()"
      ],
      "metadata": {
        "colab": {
          "base_uri": "https://localhost:8080/"
        },
        "id": "sb6MHSCqRlJ1",
        "outputId": "ab2e25ff-ed78-4c25-b8e8-b17dbb54db71"
      },
      "execution_count": 22,
      "outputs": [
        {
          "output_type": "stream",
          "name": "stdout",
          "text": [
            "Fold 10: MSE = 0.37\n",
            "Train indices: [0 1 2 3 4 5 7 8 9]\n",
            "Test indices: [6]\n",
            "\n"
          ]
        }
      ]
    },
    {
      "cell_type": "code",
      "source": [
        "# Calculate and print the average MSE across all folds\n",
        "average_mse = total_mse/k #calculate the average mse\n",
        "print(\"Average MSE:\", average_mse)"
      ],
      "metadata": {
        "colab": {
          "base_uri": "https://localhost:8080/"
        },
        "id": "I1TYhSqKRrhk",
        "outputId": "527fc65c-3830-41bf-f809-dcab21c23a23"
      },
      "execution_count": 24,
      "outputs": [
        {
          "output_type": "stream",
          "name": "stdout",
          "text": [
            "Average MSE: 0.03650173611111083\n"
          ]
        }
      ]
    }
  ]
}